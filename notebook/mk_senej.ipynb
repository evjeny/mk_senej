{
  "nbformat": 4,
  "nbformat_minor": 0,
  "metadata": {
    "colab": {
      "name": "mk_senej.ipynb",
      "provenance": [],
      "collapsed_sections": [],
      "toc_visible": true
    },
    "kernelspec": {
      "name": "python3",
      "display_name": "Python 3"
    }
  },
  "cells": [
    {
      "cell_type": "markdown",
      "metadata": {
        "id": "QNJH26w8RLiP",
        "colab_type": "text"
      },
      "source": [
        "# мастер-класс по машинному обучению"
      ]
    },
    {
      "cell_type": "markdown",
      "metadata": {
        "id": "ru0TaDyVRVzb",
        "colab_type": "text"
      },
      "source": [
        "ссылка на ноутбук:\n",
        "\n",
        "# https://cutt.ly/6ebXD8O\n",
        "\n",
        "контакты:\n",
        "* vk: https://vk.com/de_evjeny\n",
        "* e-mail: evjeny@ai-tonometry.com\n"
      ]
    },
    {
      "cell_type": "markdown",
      "metadata": {
        "id": "xE9rQcgnLAIU",
        "colab_type": "text"
      },
      "source": [
        "# загрузка данных"
      ]
    },
    {
      "cell_type": "code",
      "metadata": {
        "id": "WZJxOys9K6_S",
        "colab_type": "code",
        "colab": {}
      },
      "source": [
        "from sklearn import datasets\n",
        "from sklearn.model_selection import train_test_split\n",
        "\n",
        "import numpy as np\n",
        "import matplotlib.pyplot as plt"
      ],
      "execution_count": 0,
      "outputs": []
    },
    {
      "cell_type": "code",
      "metadata": {
        "id": "m7Zs964-LQYH",
        "colab_type": "code",
        "colab": {}
      },
      "source": [
        "images, target = datasets.load_digits(return_X_y=True)"
      ],
      "execution_count": 0,
      "outputs": []
    },
    {
      "cell_type": "code",
      "metadata": {
        "id": "QZ3tMdlHM15Q",
        "colab_type": "code",
        "colab": {}
      },
      "source": [
        "images.shape"
      ],
      "execution_count": 0,
      "outputs": []
    },
    {
      "cell_type": "code",
      "metadata": {
        "id": "wNMfJDqiLrUg",
        "colab_type": "code",
        "colab": {}
      },
      "source": [
        "image_num = 0\n",
        "image = images[image_num]\n",
        "\n",
        "image = image.reshape(8, 8)\n",
        "plt.imshow(image)\n",
        "print(\"label:\", target[image_num])"
      ],
      "execution_count": 0,
      "outputs": []
    },
    {
      "cell_type": "markdown",
      "metadata": {
        "id": "fKv3W9nLPir0",
        "colab_type": "text"
      },
      "source": [
        "посмотрим яркость пикселей:"
      ]
    },
    {
      "cell_type": "code",
      "metadata": {
        "id": "V2tU7wWbPV1U",
        "colab_type": "code",
        "colab": {}
      },
      "source": [
        "print(\"минимальное значение:\", images.min(), \", максимальное значение:\", images.max())"
      ],
      "execution_count": 0,
      "outputs": []
    },
    {
      "cell_type": "markdown",
      "metadata": {
        "id": "pyEMrJW3PmT2",
        "colab_type": "text"
      },
      "source": [
        "нормализуем картинки (переведем все значения в промежуток от 0 до 1):"
      ]
    },
    {
      "cell_type": "code",
      "metadata": {
        "id": "RZO4ceudPeM4",
        "colab_type": "code",
        "colab": {}
      },
      "source": [
        "images = images / 16.0"
      ],
      "execution_count": 0,
      "outputs": []
    },
    {
      "cell_type": "code",
      "metadata": {
        "id": "T7OabGeXPhKj",
        "colab_type": "code",
        "colab": {}
      },
      "source": [
        "print(\"минимальное значение:\", images.min(), \", максимальное значение:\", images.max())"
      ],
      "execution_count": 0,
      "outputs": []
    },
    {
      "cell_type": "markdown",
      "metadata": {
        "id": "kZjWf8CKPuTz",
        "colab_type": "text"
      },
      "source": [
        "посмотрим метки классов:"
      ]
    },
    {
      "cell_type": "code",
      "metadata": {
        "id": "F-OV15DPPyZ2",
        "colab_type": "code",
        "colab": {}
      },
      "source": [
        "target"
      ],
      "execution_count": 0,
      "outputs": []
    },
    {
      "cell_type": "code",
      "metadata": {
        "id": "Yu8sDzB3L_Bi",
        "colab_type": "code",
        "colab": {}
      },
      "source": [
        "x_train, x_test, y_train, y_test = train_test_split(images, target,\n",
        "                                                    test_size=0.2,\n",
        "                                                    random_state=42)"
      ],
      "execution_count": 0,
      "outputs": []
    },
    {
      "cell_type": "markdown",
      "metadata": {
        "id": "kc8uc0HLMajH",
        "colab_type": "text"
      },
      "source": [
        "# sklearn-модельки"
      ]
    },
    {
      "cell_type": "code",
      "metadata": {
        "id": "w15-Sw6oNfxh",
        "colab_type": "code",
        "colab": {}
      },
      "source": [
        "from sklearn.metrics import confusion_matrix\n",
        "from sklearn.utils.multiclass import unique_labels"
      ],
      "execution_count": 0,
      "outputs": []
    },
    {
      "cell_type": "markdown",
      "metadata": {
        "id": "FEdbEUQPNodU",
        "colab_type": "text"
      },
      "source": [
        "функция, которая понадобится позже:"
      ]
    },
    {
      "cell_type": "code",
      "metadata": {
        "id": "Y6pqT4bZNnp0",
        "colab_type": "code",
        "colab": {}
      },
      "source": [
        "def plot_confusion_matrix(y_true, y_pred, classes=np.arange(10),\n",
        "                          normalize=False,\n",
        "                          title=None,\n",
        "                          cmap=plt.cm.Blues):\n",
        "    \"\"\"\n",
        "    This function prints and plots the confusion matrix.\n",
        "    Normalization can be applied by setting `normalize=True`.\n",
        "    \"\"\"\n",
        "    if not title:\n",
        "        if normalize:\n",
        "            title = 'Normalized confusion matrix'\n",
        "        else:\n",
        "            title = 'Confusion matrix, without normalization'\n",
        "\n",
        "    # Compute confusion matrix\n",
        "    cm = confusion_matrix(y_true, y_pred)\n",
        "    # Only use the labels that appear in the data\n",
        "    classes = classes[unique_labels(y_true, y_pred)]\n",
        "    if normalize:\n",
        "        cm = cm.astype('float') / cm.sum(axis=1)[:, np.newaxis]\n",
        "\n",
        "    fig, ax = plt.subplots(figsize=(6, 6))\n",
        "    im = ax.imshow(cm, interpolation='nearest', cmap=cmap)\n",
        "    # We want to show all ticks...\n",
        "    ax.set(xticks=np.arange(cm.shape[1]),\n",
        "           yticks=np.arange(cm.shape[0]),\n",
        "           title=title,\n",
        "           xticklabels=classes, yticklabels=classes,\n",
        "           ylabel='True label',\n",
        "           xlabel='Predicted label')\n",
        "\n",
        "    # Rotate the tick labels and set their alignment.\n",
        "    plt.setp(ax.get_xticklabels(), rotation=45, ha=\"right\",\n",
        "             rotation_mode=\"anchor\")\n",
        "\n",
        "    # Loop over data dimensions and create text annotations.\n",
        "    fmt = '.2f' if normalize else 'd'\n",
        "    thresh = cm.max() / 2.\n",
        "    for i in range(cm.shape[0]):\n",
        "        for j in range(cm.shape[1]):\n",
        "            ax.text(j, i, format(cm[i, j], fmt),\n",
        "                    ha=\"center\", va=\"center\",\n",
        "                    color=\"white\" if cm[i, j] > thresh else \"black\")\n",
        "    fig.tight_layout()\n",
        "    return ax"
      ],
      "execution_count": 0,
      "outputs": []
    },
    {
      "cell_type": "markdown",
      "metadata": {
        "id": "5mxS4NDHMctv",
        "colab_type": "text"
      },
      "source": [
        "## логистическая регрессия"
      ]
    },
    {
      "cell_type": "markdown",
      "metadata": {
        "id": "lunvlX1ZPMMb",
        "colab_type": "text"
      },
      "source": [
        "https://scikit-learn.org/stable/modules/generated/sklearn.linear_model.LogisticRegression.html"
      ]
    },
    {
      "cell_type": "code",
      "metadata": {
        "id": "ggKzYHywMZWD",
        "colab_type": "code",
        "colab": {}
      },
      "source": [
        "from sklearn.linear_model import LogisticRegression"
      ],
      "execution_count": 0,
      "outputs": []
    },
    {
      "cell_type": "code",
      "metadata": {
        "id": "CUA7aGGtNBnF",
        "colab_type": "code",
        "colab": {}
      },
      "source": [
        "log_reg = LogisticRegression()"
      ],
      "execution_count": 0,
      "outputs": []
    },
    {
      "cell_type": "code",
      "metadata": {
        "id": "VMphSrgwNPRV",
        "colab_type": "code",
        "colab": {}
      },
      "source": [
        "log_reg.fit(x_train, y_train)"
      ],
      "execution_count": 0,
      "outputs": []
    },
    {
      "cell_type": "code",
      "metadata": {
        "id": "Z7c0a51FNRyt",
        "colab_type": "code",
        "colab": {}
      },
      "source": [
        "print(\"точность на тренировочной выборке:\", log_reg.score(x_train, y_train))\n",
        "print(\"точность на тестовой выборке:\", log_reg.score(x_test, y_test))"
      ],
      "execution_count": 0,
      "outputs": []
    },
    {
      "cell_type": "code",
      "metadata": {
        "id": "Iw7K9AW5NT1X",
        "colab_type": "code",
        "colab": {}
      },
      "source": [
        "y_predicted = log_reg.predict(x_test)\n",
        "plot_confusion_matrix(y_test, y_predicted, title=\"logistic regression\")"
      ],
      "execution_count": 0,
      "outputs": []
    },
    {
      "cell_type": "markdown",
      "metadata": {
        "id": "XnvXBfayO8Hs",
        "colab_type": "text"
      },
      "source": [
        "## случайный лес"
      ]
    },
    {
      "cell_type": "markdown",
      "metadata": {
        "id": "p2dtL1RcPJEG",
        "colab_type": "text"
      },
      "source": [
        "https://scikit-learn.org/stable/modules/generated/sklearn.ensemble.RandomForestClassifier.html"
      ]
    },
    {
      "cell_type": "code",
      "metadata": {
        "id": "tl1demexOByp",
        "colab_type": "code",
        "colab": {}
      },
      "source": [
        "from sklearn.ensemble import RandomForestClassifier"
      ],
      "execution_count": 0,
      "outputs": []
    },
    {
      "cell_type": "code",
      "metadata": {
        "id": "NGN3zb_OPIB1",
        "colab_type": "code",
        "colab": {}
      },
      "source": [
        "random_forest = RandomForestClassifier()"
      ],
      "execution_count": 0,
      "outputs": []
    },
    {
      "cell_type": "code",
      "metadata": {
        "id": "CG6-TrXCPREs",
        "colab_type": "code",
        "colab": {}
      },
      "source": [
        "random_forest.fit(x_train, y_train)"
      ],
      "execution_count": 0,
      "outputs": []
    },
    {
      "cell_type": "code",
      "metadata": {
        "id": "xGHg1KnHPSt8",
        "colab_type": "code",
        "colab": {}
      },
      "source": [
        "print(\"точность на тренировочной выборке:\", random_forest.score(x_train, y_train))\n",
        "print(\"точность на тестовой выборке:\", random_forest.score(x_test, y_test))"
      ],
      "execution_count": 0,
      "outputs": []
    },
    {
      "cell_type": "code",
      "metadata": {
        "id": "mJQ5Ya3EPVVF",
        "colab_type": "code",
        "colab": {}
      },
      "source": [
        "y_predicted = random_forest.predict(x_test)\n",
        "plot_confusion_matrix(y_test, y_predicted, title=\"random forest\")"
      ],
      "execution_count": 0,
      "outputs": []
    },
    {
      "cell_type": "code",
      "metadata": {
        "id": "lbwLbU8XPaqN",
        "colab_type": "code",
        "colab": {}
      },
      "source": [
        "feature_importances = random_forest.feature_importances_\n",
        "features_square = feature_importances.reshape(8, 8)\n",
        "plt.imshow(features_square, cmap=\"hot\")"
      ],
      "execution_count": 0,
      "outputs": []
    },
    {
      "cell_type": "markdown",
      "metadata": {
        "id": "LCDAM2WHPsNx",
        "colab_type": "text"
      },
      "source": [
        "## перцептрон"
      ]
    },
    {
      "cell_type": "markdown",
      "metadata": {
        "id": "yeylnRyFPw20",
        "colab_type": "text"
      },
      "source": [
        "https://scikit-learn.org/stable/modules/generated/sklearn.neural_network.MLPClassifier.html"
      ]
    },
    {
      "cell_type": "code",
      "metadata": {
        "id": "YzjsyHqdPnB9",
        "colab_type": "code",
        "colab": {}
      },
      "source": [
        "from sklearn.neural_network import MLPClassifier"
      ],
      "execution_count": 0,
      "outputs": []
    },
    {
      "cell_type": "code",
      "metadata": {
        "id": "hJCt9V_4P3iU",
        "colab_type": "code",
        "colab": {}
      },
      "source": [
        "perceptron = MLPClassifier(hidden_layer_sizes=(40, 20))"
      ],
      "execution_count": 0,
      "outputs": []
    },
    {
      "cell_type": "code",
      "metadata": {
        "id": "4da-rl4TP-Cc",
        "colab_type": "code",
        "colab": {}
      },
      "source": [
        "perceptron.fit(x_train, y_train)"
      ],
      "execution_count": 0,
      "outputs": []
    },
    {
      "cell_type": "code",
      "metadata": {
        "id": "u595gYwrP_5U",
        "colab_type": "code",
        "colab": {}
      },
      "source": [
        "print(\"точность на тренировочной выборке:\", perceptron.score(x_train, y_train))\n",
        "print(\"точность на тестовой выборке:\", perceptron.score(x_test, y_test))"
      ],
      "execution_count": 0,
      "outputs": []
    },
    {
      "cell_type": "code",
      "metadata": {
        "id": "9wp64iBsQEVE",
        "colab_type": "code",
        "colab": {}
      },
      "source": [
        "y_predicted = perceptron.predict(x_test)\n",
        "plot_confusion_matrix(y_test, y_predicted, title=\"perceptron\")"
      ],
      "execution_count": 0,
      "outputs": []
    },
    {
      "cell_type": "markdown",
      "metadata": {
        "id": "j5xzIVHzQaP4",
        "colab_type": "text"
      },
      "source": [
        "# подбор параметров"
      ]
    },
    {
      "cell_type": "markdown",
      "metadata": {
        "id": "kRvJ6I5VQlOZ",
        "colab_type": "text"
      },
      "source": [
        "https://scikit-learn.org/stable/modules/generated/sklearn.model_selection.GridSearchCV.html"
      ]
    },
    {
      "cell_type": "code",
      "metadata": {
        "id": "EzMmPUGqQRVo",
        "colab_type": "code",
        "colab": {}
      },
      "source": [
        "from sklearn.model_selection import GridSearchCV"
      ],
      "execution_count": 0,
      "outputs": []
    },
    {
      "cell_type": "code",
      "metadata": {
        "id": "_n8ffUBFQm45",
        "colab_type": "code",
        "colab": {}
      },
      "source": [
        "log_reg_parameters = {\n",
        "    \"penalty\": [\"l1\", \"l2\"],\n",
        "    \"tol\": [1e-3, 1e-4, 1e-5],\n",
        "    \"solver\": [\"liblinear\", \"saga\"]\n",
        "}"
      ],
      "execution_count": 0,
      "outputs": []
    },
    {
      "cell_type": "code",
      "metadata": {
        "id": "L8vgLpBFRHNV",
        "colab_type": "code",
        "colab": {}
      },
      "source": [
        "grid_search_log_reg =  GridSearchCV(LogisticRegression(), log_reg_parameters,\n",
        "                                    cv=2, n_jobs=-1)"
      ],
      "execution_count": 0,
      "outputs": []
    },
    {
      "cell_type": "code",
      "metadata": {
        "id": "eDhadoHzRPA7",
        "colab_type": "code",
        "colab": {}
      },
      "source": [
        "grid_search_log_reg.fit(images, target)"
      ],
      "execution_count": 0,
      "outputs": []
    },
    {
      "cell_type": "code",
      "metadata": {
        "id": "Khf8m_SyRUDU",
        "colab_type": "code",
        "colab": {}
      },
      "source": [
        "print(grid_search_log_reg.best_params_)"
      ],
      "execution_count": 0,
      "outputs": []
    },
    {
      "cell_type": "code",
      "metadata": {
        "id": "vt9lsYxBRwl0",
        "colab_type": "code",
        "colab": {}
      },
      "source": [
        "best_log_reg = LogisticRegression()"
      ],
      "execution_count": 0,
      "outputs": []
    },
    {
      "cell_type": "code",
      "metadata": {
        "id": "OkkSbzuwR3ll",
        "colab_type": "code",
        "colab": {}
      },
      "source": [
        "best_log_reg.fit(x_train, y_train)"
      ],
      "execution_count": 0,
      "outputs": []
    },
    {
      "cell_type": "code",
      "metadata": {
        "id": "UzqlI8q7R50K",
        "colab_type": "code",
        "colab": {}
      },
      "source": [
        "print(\"точность на тренировочной выборке:\", best_log_reg.score(x_train, y_train))\n",
        "print(\"точность на тестовой выборке:\", best_log_reg.score(x_test, y_test))"
      ],
      "execution_count": 0,
      "outputs": []
    },
    {
      "cell_type": "markdown",
      "metadata": {
        "id": "vjPvyw6wWhOR",
        "colab_type": "text"
      },
      "source": [
        "# экспортирование модели"
      ]
    },
    {
      "cell_type": "code",
      "metadata": {
        "id": "mzvLr7S-WgR1",
        "colab_type": "code",
        "colab": {}
      },
      "source": [
        "from pickle import dump"
      ],
      "execution_count": 0,
      "outputs": []
    },
    {
      "cell_type": "code",
      "metadata": {
        "id": "GEyPDjHTWwcD",
        "colab_type": "code",
        "colab": {}
      },
      "source": [
        "with open(\"model.pickle\", \"wb+\") as f:\n",
        "  dump(log_reg, f)"
      ],
      "execution_count": 0,
      "outputs": []
    },
    {
      "cell_type": "markdown",
      "metadata": {
        "id": "00pHl0ZDSgaq",
        "colab_type": "text"
      },
      "source": [
        "# развертывание модели"
      ]
    },
    {
      "cell_type": "markdown",
      "metadata": {
        "id": "YBp55KFBSii9",
        "colab_type": "text"
      },
      "source": [
        "1. создать аккаунт на https://www.pythonanywhere.com\n",
        "\n",
        "2. выбрать вкладку \"Consoles\" и нажать на \"**Bash**\"\n",
        "\n",
        "3. установить библиотеки, введя в Bash-консоль команду:\n",
        "```\n",
        "python3 -m pip install scikit-learn joblib Flask Pillow numpy --user\n",
        "```\n",
        "\n",
        "4. выбрать вкладку \"Web\", нажать на \"Add a new web app\", затем - \"Next\"\n",
        "\n",
        "![](https://github.com/evjeny/mk_senej/blob/master/images/step_4.png?raw=true)\n",
        "\n",
        "5. выбрать \"Flask\" и \"Python 3.7\"\n",
        "\n",
        "![](https://github.com/evjeny/mk_senej/blob/master/images/step_5_1.png?raw=true)\n",
        "\n",
        "![](https://github.com/evjeny/mk_senej/blob/master/images/step_5_2.png?raw=true)\n",
        "\n",
        "6. указать путь /home/<*username*>/mk_senej/app.py\n",
        "\n",
        "![](https://github.com/evjeny/mk_senej/blob/master/images/step_6.png?raw=true)\n",
        "\n",
        "7. в настройках веб-приложения в разделе код указать пути к папке \"mk_senej\"\n",
        "\n",
        "![](https://github.com/evjeny/mk_senej/blob/master/images/step_7.png?raw=true)\n",
        "\n",
        "8. снова зайти в Bash-консоль и выполнить следующие команды:\n",
        "```\n",
        "cd ~\n",
        "rm -rf mk_senej\n",
        "git clone https://github.com/evjeny/mk_senej.git\n",
        "```\n",
        "9. после - перейти обратно во вкладку с настройками приложения и нажать \"Reload <*username*>.pythonanywhere.com\"\n",
        "\n",
        "![](https://github.com/evjeny/mk_senej/blob/master/images/step_9.png?raw=true)\n",
        "\n",
        "10. перейти на http://<*username*>.pythonanywhere.com"
      ]
    },
    {
      "cell_type": "code",
      "metadata": {
        "id": "HHZcBQx9zOi0",
        "colab_type": "code",
        "colab": {}
      },
      "source": [
        ""
      ],
      "execution_count": 0,
      "outputs": []
    }
  ]
}